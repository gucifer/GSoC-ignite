{
  "nbformat": 4,
  "nbformat_minor": 0,
  "metadata": {
    "colab": {
      "name": "PPL_example.ipynb",
      "provenance": []
    },
    "kernelspec": {
      "name": "python3",
      "display_name": "Python 3"
    },
    "language_info": {
      "name": "python"
    },
    "accelerator": "GPU",
    "widgets": {
      "application/vnd.jupyter.widget-state+json": {
        "40ce5a5e6cad454ab80cf5d812de685b": {
          "model_module": "@jupyter-widgets/controls",
          "model_name": "HBoxModel",
          "model_module_version": "1.5.0",
          "state": {
            "_view_name": "HBoxView",
            "_dom_classes": [],
            "_model_name": "HBoxModel",
            "_view_module": "@jupyter-widgets/controls",
            "_model_module_version": "1.5.0",
            "_view_count": null,
            "_view_module_version": "1.5.0",
            "box_style": "",
            "layout": "IPY_MODEL_c231afe30f6d469d9711c064cd1512f8",
            "_model_module": "@jupyter-widgets/controls",
            "children": [
              "IPY_MODEL_558019b6fb5b4e109dc5a27ceb5a0deb",
              "IPY_MODEL_258d1d088ea549ca8cba50b8844b0817",
              "IPY_MODEL_64640ad841094d07a88fbefa1cad1e74"
            ]
          }
        },
        "c231afe30f6d469d9711c064cd1512f8": {
          "model_module": "@jupyter-widgets/base",
          "model_name": "LayoutModel",
          "model_module_version": "1.2.0",
          "state": {
            "_view_name": "LayoutView",
            "grid_template_rows": null,
            "right": null,
            "justify_content": null,
            "_view_module": "@jupyter-widgets/base",
            "overflow": null,
            "_model_module_version": "1.2.0",
            "_view_count": null,
            "flex_flow": null,
            "width": null,
            "min_width": null,
            "border": null,
            "align_items": null,
            "bottom": null,
            "_model_module": "@jupyter-widgets/base",
            "top": null,
            "grid_column": null,
            "overflow_y": null,
            "overflow_x": null,
            "grid_auto_flow": null,
            "grid_area": null,
            "grid_template_columns": null,
            "flex": null,
            "_model_name": "LayoutModel",
            "justify_items": null,
            "grid_row": null,
            "max_height": null,
            "align_content": null,
            "visibility": null,
            "align_self": null,
            "height": null,
            "min_height": null,
            "padding": null,
            "grid_auto_rows": null,
            "grid_gap": null,
            "max_width": null,
            "order": null,
            "_view_module_version": "1.2.0",
            "grid_template_areas": null,
            "object_position": null,
            "object_fit": null,
            "grid_auto_columns": null,
            "margin": null,
            "display": null,
            "left": null
          }
        },
        "558019b6fb5b4e109dc5a27ceb5a0deb": {
          "model_module": "@jupyter-widgets/controls",
          "model_name": "HTMLModel",
          "model_module_version": "1.5.0",
          "state": {
            "_view_name": "HTMLView",
            "style": "IPY_MODEL_b62f8ca212834830ba2e6c77169de1ce",
            "_dom_classes": [],
            "description": "",
            "_model_name": "HTMLModel",
            "placeholder": "​",
            "_view_module": "@jupyter-widgets/controls",
            "_model_module_version": "1.5.0",
            "value": "100%",
            "_view_count": null,
            "_view_module_version": "1.5.0",
            "description_tooltip": null,
            "_model_module": "@jupyter-widgets/controls",
            "layout": "IPY_MODEL_0e6352b037a040f78b330db5bba62e68"
          }
        },
        "258d1d088ea549ca8cba50b8844b0817": {
          "model_module": "@jupyter-widgets/controls",
          "model_name": "FloatProgressModel",
          "model_module_version": "1.5.0",
          "state": {
            "_view_name": "ProgressView",
            "style": "IPY_MODEL_66d742b2ecdd4d27ba6c35b9f39a7b5a",
            "_dom_classes": [],
            "description": "",
            "_model_name": "FloatProgressModel",
            "bar_style": "success",
            "max": 553433881,
            "_view_module": "@jupyter-widgets/controls",
            "_model_module_version": "1.5.0",
            "value": 553433881,
            "_view_count": null,
            "_view_module_version": "1.5.0",
            "orientation": "horizontal",
            "min": 0,
            "description_tooltip": null,
            "_model_module": "@jupyter-widgets/controls",
            "layout": "IPY_MODEL_a4cb919f474349aaa0bbd1e5b2956c28"
          }
        },
        "64640ad841094d07a88fbefa1cad1e74": {
          "model_module": "@jupyter-widgets/controls",
          "model_name": "HTMLModel",
          "model_module_version": "1.5.0",
          "state": {
            "_view_name": "HTMLView",
            "style": "IPY_MODEL_5f779f5dc16e4d88a5dd1822f4ce7afe",
            "_dom_classes": [],
            "description": "",
            "_model_name": "HTMLModel",
            "placeholder": "​",
            "_view_module": "@jupyter-widgets/controls",
            "_model_module_version": "1.5.0",
            "value": " 528M/528M [00:03&lt;00:00, 193MB/s]",
            "_view_count": null,
            "_view_module_version": "1.5.0",
            "description_tooltip": null,
            "_model_module": "@jupyter-widgets/controls",
            "layout": "IPY_MODEL_e0b1fdc871ac44d4aedb53278c8e47ca"
          }
        },
        "b62f8ca212834830ba2e6c77169de1ce": {
          "model_module": "@jupyter-widgets/controls",
          "model_name": "DescriptionStyleModel",
          "model_module_version": "1.5.0",
          "state": {
            "_view_name": "StyleView",
            "_model_name": "DescriptionStyleModel",
            "description_width": "",
            "_view_module": "@jupyter-widgets/base",
            "_model_module_version": "1.5.0",
            "_view_count": null,
            "_view_module_version": "1.2.0",
            "_model_module": "@jupyter-widgets/controls"
          }
        },
        "0e6352b037a040f78b330db5bba62e68": {
          "model_module": "@jupyter-widgets/base",
          "model_name": "LayoutModel",
          "model_module_version": "1.2.0",
          "state": {
            "_view_name": "LayoutView",
            "grid_template_rows": null,
            "right": null,
            "justify_content": null,
            "_view_module": "@jupyter-widgets/base",
            "overflow": null,
            "_model_module_version": "1.2.0",
            "_view_count": null,
            "flex_flow": null,
            "width": null,
            "min_width": null,
            "border": null,
            "align_items": null,
            "bottom": null,
            "_model_module": "@jupyter-widgets/base",
            "top": null,
            "grid_column": null,
            "overflow_y": null,
            "overflow_x": null,
            "grid_auto_flow": null,
            "grid_area": null,
            "grid_template_columns": null,
            "flex": null,
            "_model_name": "LayoutModel",
            "justify_items": null,
            "grid_row": null,
            "max_height": null,
            "align_content": null,
            "visibility": null,
            "align_self": null,
            "height": null,
            "min_height": null,
            "padding": null,
            "grid_auto_rows": null,
            "grid_gap": null,
            "max_width": null,
            "order": null,
            "_view_module_version": "1.2.0",
            "grid_template_areas": null,
            "object_position": null,
            "object_fit": null,
            "grid_auto_columns": null,
            "margin": null,
            "display": null,
            "left": null
          }
        },
        "66d742b2ecdd4d27ba6c35b9f39a7b5a": {
          "model_module": "@jupyter-widgets/controls",
          "model_name": "ProgressStyleModel",
          "model_module_version": "1.5.0",
          "state": {
            "_view_name": "StyleView",
            "_model_name": "ProgressStyleModel",
            "description_width": "",
            "_view_module": "@jupyter-widgets/base",
            "_model_module_version": "1.5.0",
            "_view_count": null,
            "_view_module_version": "1.2.0",
            "bar_color": null,
            "_model_module": "@jupyter-widgets/controls"
          }
        },
        "a4cb919f474349aaa0bbd1e5b2956c28": {
          "model_module": "@jupyter-widgets/base",
          "model_name": "LayoutModel",
          "model_module_version": "1.2.0",
          "state": {
            "_view_name": "LayoutView",
            "grid_template_rows": null,
            "right": null,
            "justify_content": null,
            "_view_module": "@jupyter-widgets/base",
            "overflow": null,
            "_model_module_version": "1.2.0",
            "_view_count": null,
            "flex_flow": null,
            "width": null,
            "min_width": null,
            "border": null,
            "align_items": null,
            "bottom": null,
            "_model_module": "@jupyter-widgets/base",
            "top": null,
            "grid_column": null,
            "overflow_y": null,
            "overflow_x": null,
            "grid_auto_flow": null,
            "grid_area": null,
            "grid_template_columns": null,
            "flex": null,
            "_model_name": "LayoutModel",
            "justify_items": null,
            "grid_row": null,
            "max_height": null,
            "align_content": null,
            "visibility": null,
            "align_self": null,
            "height": null,
            "min_height": null,
            "padding": null,
            "grid_auto_rows": null,
            "grid_gap": null,
            "max_width": null,
            "order": null,
            "_view_module_version": "1.2.0",
            "grid_template_areas": null,
            "object_position": null,
            "object_fit": null,
            "grid_auto_columns": null,
            "margin": null,
            "display": null,
            "left": null
          }
        },
        "5f779f5dc16e4d88a5dd1822f4ce7afe": {
          "model_module": "@jupyter-widgets/controls",
          "model_name": "DescriptionStyleModel",
          "model_module_version": "1.5.0",
          "state": {
            "_view_name": "StyleView",
            "_model_name": "DescriptionStyleModel",
            "description_width": "",
            "_view_module": "@jupyter-widgets/base",
            "_model_module_version": "1.5.0",
            "_view_count": null,
            "_view_module_version": "1.2.0",
            "_model_module": "@jupyter-widgets/controls"
          }
        },
        "e0b1fdc871ac44d4aedb53278c8e47ca": {
          "model_module": "@jupyter-widgets/base",
          "model_name": "LayoutModel",
          "model_module_version": "1.2.0",
          "state": {
            "_view_name": "LayoutView",
            "grid_template_rows": null,
            "right": null,
            "justify_content": null,
            "_view_module": "@jupyter-widgets/base",
            "overflow": null,
            "_model_module_version": "1.2.0",
            "_view_count": null,
            "flex_flow": null,
            "width": null,
            "min_width": null,
            "border": null,
            "align_items": null,
            "bottom": null,
            "_model_module": "@jupyter-widgets/base",
            "top": null,
            "grid_column": null,
            "overflow_y": null,
            "overflow_x": null,
            "grid_auto_flow": null,
            "grid_area": null,
            "grid_template_columns": null,
            "flex": null,
            "_model_name": "LayoutModel",
            "justify_items": null,
            "grid_row": null,
            "max_height": null,
            "align_content": null,
            "visibility": null,
            "align_self": null,
            "height": null,
            "min_height": null,
            "padding": null,
            "grid_auto_rows": null,
            "grid_gap": null,
            "max_width": null,
            "order": null,
            "_view_module_version": "1.2.0",
            "grid_template_areas": null,
            "object_position": null,
            "object_fit": null,
            "grid_auto_columns": null,
            "margin": null,
            "display": null,
            "left": null
          }
        },
        "228bbf232c3945d78ae43c208edf49db": {
          "model_module": "@jupyter-widgets/controls",
          "model_name": "HBoxModel",
          "model_module_version": "1.5.0",
          "state": {
            "_view_name": "HBoxView",
            "_dom_classes": [],
            "_model_name": "HBoxModel",
            "_view_module": "@jupyter-widgets/controls",
            "_model_module_version": "1.5.0",
            "_view_count": null,
            "_view_module_version": "1.5.0",
            "box_style": "",
            "layout": "IPY_MODEL_eb4cc4a538d54e1389b0c69435f9d22f",
            "_model_module": "@jupyter-widgets/controls",
            "children": [
              "IPY_MODEL_df7e61077523434d9191065e9a2a8276",
              "IPY_MODEL_491a916d2c564eb78db31dcb78676b4f",
              "IPY_MODEL_c0987a192c2b47cfa6741159e2e2640c"
            ]
          }
        },
        "eb4cc4a538d54e1389b0c69435f9d22f": {
          "model_module": "@jupyter-widgets/base",
          "model_name": "LayoutModel",
          "model_module_version": "1.2.0",
          "state": {
            "_view_name": "LayoutView",
            "grid_template_rows": null,
            "right": null,
            "justify_content": null,
            "_view_module": "@jupyter-widgets/base",
            "overflow": null,
            "_model_module_version": "1.2.0",
            "_view_count": null,
            "flex_flow": null,
            "width": null,
            "min_width": null,
            "border": null,
            "align_items": null,
            "bottom": null,
            "_model_module": "@jupyter-widgets/base",
            "top": null,
            "grid_column": null,
            "overflow_y": null,
            "overflow_x": null,
            "grid_auto_flow": null,
            "grid_area": null,
            "grid_template_columns": null,
            "flex": null,
            "_model_name": "LayoutModel",
            "justify_items": null,
            "grid_row": null,
            "max_height": null,
            "align_content": null,
            "visibility": null,
            "align_self": null,
            "height": null,
            "min_height": null,
            "padding": null,
            "grid_auto_rows": null,
            "grid_gap": null,
            "max_width": null,
            "order": null,
            "_view_module_version": "1.2.0",
            "grid_template_areas": null,
            "object_position": null,
            "object_fit": null,
            "grid_auto_columns": null,
            "margin": null,
            "display": null,
            "left": null
          }
        },
        "df7e61077523434d9191065e9a2a8276": {
          "model_module": "@jupyter-widgets/controls",
          "model_name": "HTMLModel",
          "model_module_version": "1.5.0",
          "state": {
            "_view_name": "HTMLView",
            "style": "IPY_MODEL_d437c207596948a081f351eb4c6acf47",
            "_dom_classes": [],
            "description": "",
            "_model_name": "HTMLModel",
            "placeholder": "​",
            "_view_module": "@jupyter-widgets/controls",
            "_model_module_version": "1.5.0",
            "value": "Epoch [1/2]: [20695/20695] 100%",
            "_view_count": null,
            "_view_module_version": "1.5.0",
            "description_tooltip": null,
            "_model_module": "@jupyter-widgets/controls",
            "layout": "IPY_MODEL_c6175c2b39bc47c5b00ed0bdb6774098"
          }
        },
        "491a916d2c564eb78db31dcb78676b4f": {
          "model_module": "@jupyter-widgets/controls",
          "model_name": "FloatProgressModel",
          "model_module_version": "1.5.0",
          "state": {
            "_view_name": "ProgressView",
            "style": "IPY_MODEL_4660c1a362be47dfabf2699e0993f13c",
            "_dom_classes": [],
            "description": "",
            "_model_name": "FloatProgressModel",
            "bar_style": "",
            "max": 20695,
            "_view_module": "@jupyter-widgets/controls",
            "_model_module_version": "1.5.0",
            "value": 20695,
            "_view_count": null,
            "_view_module_version": "1.5.0",
            "orientation": "horizontal",
            "min": 0,
            "description_tooltip": null,
            "_model_module": "@jupyter-widgets/controls",
            "layout": "IPY_MODEL_81c06e254ef5421f8c916f39fa69a296"
          }
        },
        "c0987a192c2b47cfa6741159e2e2640c": {
          "model_module": "@jupyter-widgets/controls",
          "model_name": "HTMLModel",
          "model_module_version": "1.5.0",
          "state": {
            "_view_name": "HTMLView",
            "style": "IPY_MODEL_4969f137343d4337978f49a211ba8c52",
            "_dom_classes": [],
            "description": "",
            "_model_name": "HTMLModel",
            "placeholder": "​",
            "_view_module": "@jupyter-widgets/controls",
            "_model_module_version": "1.5.0",
            "value": " [1:28:11&lt;00:00]",
            "_view_count": null,
            "_view_module_version": "1.5.0",
            "description_tooltip": null,
            "_model_module": "@jupyter-widgets/controls",
            "layout": "IPY_MODEL_c2e9816828694cfebc053e219db88bb4"
          }
        },
        "d437c207596948a081f351eb4c6acf47": {
          "model_module": "@jupyter-widgets/controls",
          "model_name": "DescriptionStyleModel",
          "model_module_version": "1.5.0",
          "state": {
            "_view_name": "StyleView",
            "_model_name": "DescriptionStyleModel",
            "description_width": "",
            "_view_module": "@jupyter-widgets/base",
            "_model_module_version": "1.5.0",
            "_view_count": null,
            "_view_module_version": "1.2.0",
            "_model_module": "@jupyter-widgets/controls"
          }
        },
        "c6175c2b39bc47c5b00ed0bdb6774098": {
          "model_module": "@jupyter-widgets/base",
          "model_name": "LayoutModel",
          "model_module_version": "1.2.0",
          "state": {
            "_view_name": "LayoutView",
            "grid_template_rows": null,
            "right": null,
            "justify_content": null,
            "_view_module": "@jupyter-widgets/base",
            "overflow": null,
            "_model_module_version": "1.2.0",
            "_view_count": null,
            "flex_flow": null,
            "width": null,
            "min_width": null,
            "border": null,
            "align_items": null,
            "bottom": null,
            "_model_module": "@jupyter-widgets/base",
            "top": null,
            "grid_column": null,
            "overflow_y": null,
            "overflow_x": null,
            "grid_auto_flow": null,
            "grid_area": null,
            "grid_template_columns": null,
            "flex": null,
            "_model_name": "LayoutModel",
            "justify_items": null,
            "grid_row": null,
            "max_height": null,
            "align_content": null,
            "visibility": null,
            "align_self": null,
            "height": null,
            "min_height": null,
            "padding": null,
            "grid_auto_rows": null,
            "grid_gap": null,
            "max_width": null,
            "order": null,
            "_view_module_version": "1.2.0",
            "grid_template_areas": null,
            "object_position": null,
            "object_fit": null,
            "grid_auto_columns": null,
            "margin": null,
            "display": null,
            "left": null
          }
        },
        "4660c1a362be47dfabf2699e0993f13c": {
          "model_module": "@jupyter-widgets/controls",
          "model_name": "ProgressStyleModel",
          "model_module_version": "1.5.0",
          "state": {
            "_view_name": "StyleView",
            "_model_name": "ProgressStyleModel",
            "description_width": "",
            "_view_module": "@jupyter-widgets/base",
            "_model_module_version": "1.5.0",
            "_view_count": null,
            "_view_module_version": "1.2.0",
            "bar_color": null,
            "_model_module": "@jupyter-widgets/controls"
          }
        },
        "81c06e254ef5421f8c916f39fa69a296": {
          "model_module": "@jupyter-widgets/base",
          "model_name": "LayoutModel",
          "model_module_version": "1.2.0",
          "state": {
            "_view_name": "LayoutView",
            "grid_template_rows": null,
            "right": null,
            "justify_content": null,
            "_view_module": "@jupyter-widgets/base",
            "overflow": null,
            "_model_module_version": "1.2.0",
            "_view_count": null,
            "flex_flow": null,
            "width": null,
            "min_width": null,
            "border": null,
            "align_items": null,
            "bottom": null,
            "_model_module": "@jupyter-widgets/base",
            "top": null,
            "grid_column": null,
            "overflow_y": null,
            "overflow_x": null,
            "grid_auto_flow": null,
            "grid_area": null,
            "grid_template_columns": null,
            "flex": null,
            "_model_name": "LayoutModel",
            "justify_items": null,
            "grid_row": null,
            "max_height": null,
            "align_content": null,
            "visibility": null,
            "align_self": null,
            "height": null,
            "min_height": null,
            "padding": null,
            "grid_auto_rows": null,
            "grid_gap": null,
            "max_width": null,
            "order": null,
            "_view_module_version": "1.2.0",
            "grid_template_areas": null,
            "object_position": null,
            "object_fit": null,
            "grid_auto_columns": null,
            "margin": null,
            "display": null,
            "left": null
          }
        },
        "4969f137343d4337978f49a211ba8c52": {
          "model_module": "@jupyter-widgets/controls",
          "model_name": "DescriptionStyleModel",
          "model_module_version": "1.5.0",
          "state": {
            "_view_name": "StyleView",
            "_model_name": "DescriptionStyleModel",
            "description_width": "",
            "_view_module": "@jupyter-widgets/base",
            "_model_module_version": "1.5.0",
            "_view_count": null,
            "_view_module_version": "1.2.0",
            "_model_module": "@jupyter-widgets/controls"
          }
        },
        "c2e9816828694cfebc053e219db88bb4": {
          "model_module": "@jupyter-widgets/base",
          "model_name": "LayoutModel",
          "model_module_version": "1.2.0",
          "state": {
            "_view_name": "LayoutView",
            "grid_template_rows": null,
            "right": null,
            "justify_content": null,
            "_view_module": "@jupyter-widgets/base",
            "overflow": null,
            "_model_module_version": "1.2.0",
            "_view_count": null,
            "flex_flow": null,
            "width": null,
            "min_width": null,
            "border": null,
            "align_items": null,
            "bottom": null,
            "_model_module": "@jupyter-widgets/base",
            "top": null,
            "grid_column": null,
            "overflow_y": null,
            "overflow_x": null,
            "grid_auto_flow": null,
            "grid_area": null,
            "grid_template_columns": null,
            "flex": null,
            "_model_name": "LayoutModel",
            "justify_items": null,
            "grid_row": null,
            "max_height": null,
            "align_content": null,
            "visibility": null,
            "align_self": null,
            "height": null,
            "min_height": null,
            "padding": null,
            "grid_auto_rows": null,
            "grid_gap": null,
            "max_width": null,
            "order": null,
            "_view_module_version": "1.2.0",
            "grid_template_areas": null,
            "object_position": null,
            "object_fit": null,
            "grid_auto_columns": null,
            "margin": null,
            "display": null,
            "left": null
          }
        },
        "966314d425204b50aa9e54406fd8e85e": {
          "model_module": "@jupyter-widgets/controls",
          "model_name": "HBoxModel",
          "model_module_version": "1.5.0",
          "state": {
            "_view_name": "HBoxView",
            "_dom_classes": [],
            "_model_name": "HBoxModel",
            "_view_module": "@jupyter-widgets/controls",
            "_model_module_version": "1.5.0",
            "_view_count": null,
            "_view_module_version": "1.5.0",
            "box_style": "",
            "layout": "IPY_MODEL_15435ed0581544258c7fa64fb4fdae64",
            "_model_module": "@jupyter-widgets/controls",
            "children": [
              "IPY_MODEL_be845f136bfb4e5389a1d3251ac4f6b5",
              "IPY_MODEL_b479c838b31c45d48c2a260b2c63b55d",
              "IPY_MODEL_1f8bc195d50a4858aea3f3954977f19d"
            ]
          }
        },
        "15435ed0581544258c7fa64fb4fdae64": {
          "model_module": "@jupyter-widgets/base",
          "model_name": "LayoutModel",
          "model_module_version": "1.2.0",
          "state": {
            "_view_name": "LayoutView",
            "grid_template_rows": null,
            "right": null,
            "justify_content": null,
            "_view_module": "@jupyter-widgets/base",
            "overflow": null,
            "_model_module_version": "1.2.0",
            "_view_count": null,
            "flex_flow": null,
            "width": null,
            "min_width": null,
            "border": null,
            "align_items": null,
            "bottom": null,
            "_model_module": "@jupyter-widgets/base",
            "top": null,
            "grid_column": null,
            "overflow_y": null,
            "overflow_x": null,
            "grid_auto_flow": null,
            "grid_area": null,
            "grid_template_columns": null,
            "flex": null,
            "_model_name": "LayoutModel",
            "justify_items": null,
            "grid_row": null,
            "max_height": null,
            "align_content": null,
            "visibility": null,
            "align_self": null,
            "height": null,
            "min_height": null,
            "padding": null,
            "grid_auto_rows": null,
            "grid_gap": null,
            "max_width": null,
            "order": null,
            "_view_module_version": "1.2.0",
            "grid_template_areas": null,
            "object_position": null,
            "object_fit": null,
            "grid_auto_columns": null,
            "margin": null,
            "display": null,
            "left": null
          }
        },
        "be845f136bfb4e5389a1d3251ac4f6b5": {
          "model_module": "@jupyter-widgets/controls",
          "model_name": "HTMLModel",
          "model_module_version": "1.5.0",
          "state": {
            "_view_name": "HTMLView",
            "style": "IPY_MODEL_4bf367bc391a4c63b12582546b41c6bf",
            "_dom_classes": [],
            "description": "",
            "_model_name": "HTMLModel",
            "placeholder": "​",
            "_view_module": "@jupyter-widgets/controls",
            "_model_module_version": "1.5.0",
            "value": "Epoch [2/2]: [20695/20695] 100%",
            "_view_count": null,
            "_view_module_version": "1.5.0",
            "description_tooltip": null,
            "_model_module": "@jupyter-widgets/controls",
            "layout": "IPY_MODEL_4f78ad782f444cbc81e00052d356a4b5"
          }
        },
        "b479c838b31c45d48c2a260b2c63b55d": {
          "model_module": "@jupyter-widgets/controls",
          "model_name": "FloatProgressModel",
          "model_module_version": "1.5.0",
          "state": {
            "_view_name": "ProgressView",
            "style": "IPY_MODEL_af5dc27afceb4f5e8e95d3e86784b284",
            "_dom_classes": [],
            "description": "",
            "_model_name": "FloatProgressModel",
            "bar_style": "",
            "max": 20695,
            "_view_module": "@jupyter-widgets/controls",
            "_model_module_version": "1.5.0",
            "value": 20695,
            "_view_count": null,
            "_view_module_version": "1.5.0",
            "orientation": "horizontal",
            "min": 0,
            "description_tooltip": null,
            "_model_module": "@jupyter-widgets/controls",
            "layout": "IPY_MODEL_77c131d96a5549c98188f6850d7317de"
          }
        },
        "1f8bc195d50a4858aea3f3954977f19d": {
          "model_module": "@jupyter-widgets/controls",
          "model_name": "HTMLModel",
          "model_module_version": "1.5.0",
          "state": {
            "_view_name": "HTMLView",
            "style": "IPY_MODEL_5af5b96581874ff3b6423228c6a85bdd",
            "_dom_classes": [],
            "description": "",
            "_model_name": "HTMLModel",
            "placeholder": "​",
            "_view_module": "@jupyter-widgets/controls",
            "_model_module_version": "1.5.0",
            "value": " [1:28:13&lt;00:00]",
            "_view_count": null,
            "_view_module_version": "1.5.0",
            "description_tooltip": null,
            "_model_module": "@jupyter-widgets/controls",
            "layout": "IPY_MODEL_bc0d2e2d2b5448f991835e3df1746674"
          }
        },
        "4bf367bc391a4c63b12582546b41c6bf": {
          "model_module": "@jupyter-widgets/controls",
          "model_name": "DescriptionStyleModel",
          "model_module_version": "1.5.0",
          "state": {
            "_view_name": "StyleView",
            "_model_name": "DescriptionStyleModel",
            "description_width": "",
            "_view_module": "@jupyter-widgets/base",
            "_model_module_version": "1.5.0",
            "_view_count": null,
            "_view_module_version": "1.2.0",
            "_model_module": "@jupyter-widgets/controls"
          }
        },
        "4f78ad782f444cbc81e00052d356a4b5": {
          "model_module": "@jupyter-widgets/base",
          "model_name": "LayoutModel",
          "model_module_version": "1.2.0",
          "state": {
            "_view_name": "LayoutView",
            "grid_template_rows": null,
            "right": null,
            "justify_content": null,
            "_view_module": "@jupyter-widgets/base",
            "overflow": null,
            "_model_module_version": "1.2.0",
            "_view_count": null,
            "flex_flow": null,
            "width": null,
            "min_width": null,
            "border": null,
            "align_items": null,
            "bottom": null,
            "_model_module": "@jupyter-widgets/base",
            "top": null,
            "grid_column": null,
            "overflow_y": null,
            "overflow_x": null,
            "grid_auto_flow": null,
            "grid_area": null,
            "grid_template_columns": null,
            "flex": null,
            "_model_name": "LayoutModel",
            "justify_items": null,
            "grid_row": null,
            "max_height": null,
            "align_content": null,
            "visibility": null,
            "align_self": null,
            "height": null,
            "min_height": null,
            "padding": null,
            "grid_auto_rows": null,
            "grid_gap": null,
            "max_width": null,
            "order": null,
            "_view_module_version": "1.2.0",
            "grid_template_areas": null,
            "object_position": null,
            "object_fit": null,
            "grid_auto_columns": null,
            "margin": null,
            "display": null,
            "left": null
          }
        },
        "af5dc27afceb4f5e8e95d3e86784b284": {
          "model_module": "@jupyter-widgets/controls",
          "model_name": "ProgressStyleModel",
          "model_module_version": "1.5.0",
          "state": {
            "_view_name": "StyleView",
            "_model_name": "ProgressStyleModel",
            "description_width": "",
            "_view_module": "@jupyter-widgets/base",
            "_model_module_version": "1.5.0",
            "_view_count": null,
            "_view_module_version": "1.2.0",
            "bar_color": null,
            "_model_module": "@jupyter-widgets/controls"
          }
        },
        "77c131d96a5549c98188f6850d7317de": {
          "model_module": "@jupyter-widgets/base",
          "model_name": "LayoutModel",
          "model_module_version": "1.2.0",
          "state": {
            "_view_name": "LayoutView",
            "grid_template_rows": null,
            "right": null,
            "justify_content": null,
            "_view_module": "@jupyter-widgets/base",
            "overflow": null,
            "_model_module_version": "1.2.0",
            "_view_count": null,
            "flex_flow": null,
            "width": null,
            "min_width": null,
            "border": null,
            "align_items": null,
            "bottom": null,
            "_model_module": "@jupyter-widgets/base",
            "top": null,
            "grid_column": null,
            "overflow_y": null,
            "overflow_x": null,
            "grid_auto_flow": null,
            "grid_area": null,
            "grid_template_columns": null,
            "flex": null,
            "_model_name": "LayoutModel",
            "justify_items": null,
            "grid_row": null,
            "max_height": null,
            "align_content": null,
            "visibility": null,
            "align_self": null,
            "height": null,
            "min_height": null,
            "padding": null,
            "grid_auto_rows": null,
            "grid_gap": null,
            "max_width": null,
            "order": null,
            "_view_module_version": "1.2.0",
            "grid_template_areas": null,
            "object_position": null,
            "object_fit": null,
            "grid_auto_columns": null,
            "margin": null,
            "display": null,
            "left": null
          }
        },
        "5af5b96581874ff3b6423228c6a85bdd": {
          "model_module": "@jupyter-widgets/controls",
          "model_name": "DescriptionStyleModel",
          "model_module_version": "1.5.0",
          "state": {
            "_view_name": "StyleView",
            "_model_name": "DescriptionStyleModel",
            "description_width": "",
            "_view_module": "@jupyter-widgets/base",
            "_model_module_version": "1.5.0",
            "_view_count": null,
            "_view_module_version": "1.2.0",
            "_model_module": "@jupyter-widgets/controls"
          }
        },
        "bc0d2e2d2b5448f991835e3df1746674": {
          "model_module": "@jupyter-widgets/base",
          "model_name": "LayoutModel",
          "model_module_version": "1.2.0",
          "state": {
            "_view_name": "LayoutView",
            "grid_template_rows": null,
            "right": null,
            "justify_content": null,
            "_view_module": "@jupyter-widgets/base",
            "overflow": null,
            "_model_module_version": "1.2.0",
            "_view_count": null,
            "flex_flow": null,
            "width": null,
            "min_width": null,
            "border": null,
            "align_items": null,
            "bottom": null,
            "_model_module": "@jupyter-widgets/base",
            "top": null,
            "grid_column": null,
            "overflow_y": null,
            "overflow_x": null,
            "grid_auto_flow": null,
            "grid_area": null,
            "grid_template_columns": null,
            "flex": null,
            "_model_name": "LayoutModel",
            "justify_items": null,
            "grid_row": null,
            "max_height": null,
            "align_content": null,
            "visibility": null,
            "align_self": null,
            "height": null,
            "min_height": null,
            "padding": null,
            "grid_auto_rows": null,
            "grid_gap": null,
            "max_width": null,
            "order": null,
            "_view_module_version": "1.2.0",
            "grid_template_areas": null,
            "object_position": null,
            "object_fit": null,
            "grid_auto_columns": null,
            "margin": null,
            "display": null,
            "left": null
          }
        }
      }
    }
  },
  "cells": [
    {
      "cell_type": "markdown",
      "metadata": {
        "id": "C3FZoNXv8gEO"
      },
      "source": [
        "# Required Dependencies"
      ]
    },
    {
      "cell_type": "code",
      "metadata": {
        "id": "5PihDCZyC5Iq",
        "colab": {
          "base_uri": "https://localhost:8080/"
        },
        "outputId": "97c68293-0bbb-428c-c4c3-fed945904fce"
      },
      "source": [
        "!pip install pytorch-ignite"
      ],
      "execution_count": 1,
      "outputs": [
        {
          "output_type": "stream",
          "text": [
            "Collecting pytorch-ignite\n",
            "  Downloading pytorch_ignite-0.4.6-py3-none-any.whl (232 kB)\n",
            "\u001b[?25l\r\u001b[K     |█▍                              | 10 kB 26.5 MB/s eta 0:00:01\r\u001b[K     |██▉                             | 20 kB 31.3 MB/s eta 0:00:01\r\u001b[K     |████▎                           | 30 kB 24.8 MB/s eta 0:00:01\r\u001b[K     |█████▋                          | 40 kB 18.9 MB/s eta 0:00:01\r\u001b[K     |███████                         | 51 kB 9.6 MB/s eta 0:00:01\r\u001b[K     |████████▌                       | 61 kB 9.4 MB/s eta 0:00:01\r\u001b[K     |█████████▉                      | 71 kB 9.6 MB/s eta 0:00:01\r\u001b[K     |███████████▎                    | 81 kB 10.2 MB/s eta 0:00:01\r\u001b[K     |████████████▊                   | 92 kB 9.6 MB/s eta 0:00:01\r\u001b[K     |██████████████                  | 102 kB 10.5 MB/s eta 0:00:01\r\u001b[K     |███████████████▌                | 112 kB 10.5 MB/s eta 0:00:01\r\u001b[K     |█████████████████               | 122 kB 10.5 MB/s eta 0:00:01\r\u001b[K     |██████████████████▎             | 133 kB 10.5 MB/s eta 0:00:01\r\u001b[K     |███████████████████▊            | 143 kB 10.5 MB/s eta 0:00:01\r\u001b[K     |█████████████████████▏          | 153 kB 10.5 MB/s eta 0:00:01\r\u001b[K     |██████████████████████▌         | 163 kB 10.5 MB/s eta 0:00:01\r\u001b[K     |████████████████████████        | 174 kB 10.5 MB/s eta 0:00:01\r\u001b[K     |█████████████████████████▍      | 184 kB 10.5 MB/s eta 0:00:01\r\u001b[K     |██████████████████████████▊     | 194 kB 10.5 MB/s eta 0:00:01\r\u001b[K     |████████████████████████████▏   | 204 kB 10.5 MB/s eta 0:00:01\r\u001b[K     |█████████████████████████████▋  | 215 kB 10.5 MB/s eta 0:00:01\r\u001b[K     |███████████████████████████████ | 225 kB 10.5 MB/s eta 0:00:01\r\u001b[K     |████████████████████████████████| 232 kB 10.5 MB/s \n",
            "\u001b[?25hRequirement already satisfied: torch<2,>=1.3 in /usr/local/lib/python3.7/dist-packages (from pytorch-ignite) (1.9.0+cu102)\n",
            "Requirement already satisfied: typing-extensions in /usr/local/lib/python3.7/dist-packages (from torch<2,>=1.3->pytorch-ignite) (3.7.4.3)\n",
            "Installing collected packages: pytorch-ignite\n",
            "Successfully installed pytorch-ignite-0.4.6\n"
          ],
          "name": "stdout"
        }
      ]
    },
    {
      "cell_type": "code",
      "metadata": {
        "id": "7hWNXhK2DA7f",
        "colab": {
          "base_uri": "https://localhost:8080/",
          "height": 35
        },
        "outputId": "4136325d-3a0e-4b3d-e8ce-54f8f550c97d"
      },
      "source": [
        "import torch\n",
        "torch.__version__"
      ],
      "execution_count": 2,
      "outputs": [
        {
          "output_type": "execute_result",
          "data": {
            "application/vnd.google.colaboratory.intrinsic+json": {
              "type": "string"
            },
            "text/plain": [
              "'1.9.0+cu102'"
            ]
          },
          "metadata": {
            "tags": []
          },
          "execution_count": 2
        }
      ]
    },
    {
      "cell_type": "code",
      "metadata": {
        "id": "b9a-kBtXDCvl",
        "colab": {
          "base_uri": "https://localhost:8080/",
          "height": 35
        },
        "outputId": "e902bab1-1a12-4e8c-e96f-a7d2d998a263"
      },
      "source": [
        "import torchvision\n",
        "torchvision.__version__"
      ],
      "execution_count": 3,
      "outputs": [
        {
          "output_type": "execute_result",
          "data": {
            "application/vnd.google.colaboratory.intrinsic+json": {
              "type": "string"
            },
            "text/plain": [
              "'0.10.0+cu102'"
            ]
          },
          "metadata": {
            "tags": []
          },
          "execution_count": 3
        }
      ]
    },
    {
      "cell_type": "code",
      "metadata": {
        "id": "fiKu-amcDGmT",
        "colab": {
          "base_uri": "https://localhost:8080/",
          "height": 35
        },
        "outputId": "2ae14eb7-f947-4807-bfc5-b51de5cc247c"
      },
      "source": [
        "import ignite\n",
        "ignite.__version__"
      ],
      "execution_count": 4,
      "outputs": [
        {
          "output_type": "execute_result",
          "data": {
            "application/vnd.google.colaboratory.intrinsic+json": {
              "type": "string"
            },
            "text/plain": [
              "'0.4.6'"
            ]
          },
          "metadata": {
            "tags": []
          },
          "execution_count": 4
        }
      ]
    },
    {
      "cell_type": "markdown",
      "metadata": {
        "id": "qn5jHxBV8kFy"
      },
      "source": [
        "# Import Libraries"
      ]
    },
    {
      "cell_type": "code",
      "metadata": {
        "id": "e5lp3SV1DIZf"
      },
      "source": [
        "import logging\n",
        "import matplotlib.pyplot as plt\n",
        "\n",
        "from PIL import Image\n",
        "\n",
        "import numpy as np\n",
        "\n",
        "import torch\n",
        "import torch.nn as nn\n",
        "import torch.optim as optim\n",
        "from torch.optim import Adam\n",
        "\n",
        "from torchvision import datasets\n",
        "import torchvision.transforms as transforms\n",
        "import torchvision.utils as vutils\n",
        "\n",
        "from ignite.engine import Engine, Events\n",
        "import ignite.distributed as idist"
      ],
      "execution_count": 5,
      "outputs": []
    },
    {
      "cell_type": "markdown",
      "metadata": {
        "id": "s1zfwvWx8pO9"
      },
      "source": [
        "## Reproductibility and logging details\n"
      ]
    },
    {
      "cell_type": "code",
      "metadata": {
        "id": "aap7PDMqDbkZ"
      },
      "source": [
        "ignite.utils.manual_seed(999)"
      ],
      "execution_count": 6,
      "outputs": []
    },
    {
      "cell_type": "markdown",
      "metadata": {
        "id": "iKtUSsv_8s1p"
      },
      "source": [
        "The `logging` level `logging.WARNING` is used in internal `ignite` submodules in order to avoid internal messages."
      ]
    },
    {
      "cell_type": "code",
      "metadata": {
        "id": "xphCsVKIDffT",
        "colab": {
          "base_uri": "https://localhost:8080/"
        },
        "outputId": "c59b7439-0539-4835-bd50-11c7adb6bd47"
      },
      "source": [
        "ignite.utils.setup_logger(name=\"ignite.distributed.auto.auto_dataloader\", level=logging.WARNING)\n",
        "ignite.utils.setup_logger(name=\"ignite.distributed.launcher.Parallel\", level=logging.WARNING)"
      ],
      "execution_count": 7,
      "outputs": [
        {
          "output_type": "execute_result",
          "data": {
            "text/plain": [
              "<Logger ignite.distributed.launcher.Parallel (WARNING)>"
            ]
          },
          "metadata": {
            "tags": []
          },
          "execution_count": 7
        }
      ]
    },
    {
      "cell_type": "code",
      "metadata": {
        "id": "lP2WrRLelSQx"
      },
      "source": [
        "device = idist.device()"
      ],
      "execution_count": 8,
      "outputs": []
    },
    {
      "cell_type": "markdown",
      "metadata": {
        "id": "MIAWivTU82ji"
      },
      "source": [
        "# Processing Data\n",
        "For this notebook, we will be using the 2014 training data from [COCO dataset](https://cocodataset.org/#download). This dataset has more than 80000 images spanning over 91 classes. It provides us a wide variety of images to work with for training our model. Here we download and use [ImageFolder](https://pytorch.org/vision/stable/datasets.html) class provided by `torchvision` library to define our own dataset."
      ]
    },
    {
      "cell_type": "code",
      "metadata": {
        "colab": {
          "base_uri": "https://localhost:8080/"
        },
        "id": "dPvi785cftD9",
        "outputId": "bfc64b9c-ab91-4fce-b780-e053f83395fb"
      },
      "source": [
        "!wget http://images.cocodataset.org/zips/train2014.zip"
      ],
      "execution_count": 9,
      "outputs": [
        {
          "output_type": "stream",
          "text": [
            "--2021-08-14 08:01:15--  http://images.cocodataset.org/zips/train2014.zip\n",
            "Resolving images.cocodataset.org (images.cocodataset.org)... 52.217.204.137\n",
            "Connecting to images.cocodataset.org (images.cocodataset.org)|52.217.204.137|:80... connected.\n",
            "HTTP request sent, awaiting response... 200 OK\n",
            "Length: 13510573713 (13G) [application/zip]\n",
            "Saving to: ‘train2014.zip’\n",
            "\n",
            "train2014.zip       100%[===================>]  12.58G  43.4MB/s    in 5m 11s  \n",
            "\n",
            "2021-08-14 08:06:26 (41.5 MB/s) - ‘train2014.zip’ saved [13510573713/13510573713]\n",
            "\n"
          ],
          "name": "stdout"
        }
      ]
    },
    {
      "cell_type": "code",
      "metadata": {
        "id": "tjY4YIeif-Sa"
      },
      "source": [
        "!unzip -qq train2014.zip -d data"
      ],
      "execution_count": 10,
      "outputs": []
    },
    {
      "cell_type": "code",
      "metadata": {
        "colab": {
          "base_uri": "https://localhost:8080/"
        },
        "id": "6ll8AaAEkhVu",
        "outputId": "f2745c66-da9d-4a42-805a-3f5ab2b8cf8c"
      },
      "source": [
        "!wget https://raw.githubusercontent.com/pytorch/examples/master/fast_neural_style/images/style-images/mosaic.jpg"
      ],
      "execution_count": 11,
      "outputs": [
        {
          "output_type": "stream",
          "text": [
            "--2021-08-14 08:12:52--  https://raw.githubusercontent.com/pytorch/examples/master/fast_neural_style/images/style-images/mosaic.jpg\n",
            "Resolving raw.githubusercontent.com (raw.githubusercontent.com)... 185.199.108.133, 185.199.109.133, 185.199.110.133, ...\n",
            "Connecting to raw.githubusercontent.com (raw.githubusercontent.com)|185.199.108.133|:443... connected.\n",
            "HTTP request sent, awaiting response... 200 OK\n",
            "Length: 77378 (76K) [image/jpeg]\n",
            "Saving to: ‘mosaic.jpg’\n",
            "\n",
            "mosaic.jpg          100%[===================>]  75.56K  --.-KB/s    in 0.008s  \n",
            "\n",
            "2021-08-14 08:12:53 (9.79 MB/s) - ‘mosaic.jpg’ saved [77378/77378]\n",
            "\n"
          ],
          "name": "stdout"
        }
      ]
    },
    {
      "cell_type": "code",
      "metadata": {
        "id": "GKSF5YoKkqrh"
      },
      "source": [
        "!mkdir checkpoints"
      ],
      "execution_count": 12,
      "outputs": []
    },
    {
      "cell_type": "markdown",
      "metadata": {
        "id": "n-JxTBba-9aS"
      },
      "source": [
        "## Dataset and transformation"
      ]
    },
    {
      "cell_type": "markdown",
      "metadata": {
        "id": "MFEHXaBb_Aw1"
      },
      "source": [
        "We define important model and training parameters such as `batch_size`, `image_size`, `learning_rate` etc here."
      ]
    },
    {
      "cell_type": "code",
      "metadata": {
        "id": "fJT8-MbZDplq"
      },
      "source": [
        "dataset = './data/'\n",
        "batch_size = 4\n",
        "image_size = 256\n",
        "lr = 1e-3\n",
        "style_image = \"mosaic.jpg\"\n",
        "style_size = 256\n",
        "content_weight = 1e5\n",
        "style_weight = 1e10\n",
        "log_interval = 500\n",
        "checkpoint_interval = 2000\n",
        "checkpoint_model_dir = './checkpoints/'"
      ],
      "execution_count": 13,
      "outputs": []
    },
    {
      "cell_type": "code",
      "metadata": {
        "id": "Xhx88e15DhQ7"
      },
      "source": [
        "transform = transforms.Compose([\n",
        "    transforms.Resize(image_size),\n",
        "    transforms.CenterCrop(image_size),\n",
        "    transforms.ToTensor(),\n",
        "    transforms.Lambda(lambda x: x.mul(255))\n",
        "])\n",
        "train_dataset = datasets.ImageFolder(dataset, transform)"
      ],
      "execution_count": 14,
      "outputs": []
    },
    {
      "cell_type": "markdown",
      "metadata": {
        "id": "Wm8-UfN8_SrS"
      },
      "source": [
        "## DataLoading"
      ]
    },
    {
      "cell_type": "markdown",
      "metadata": {
        "id": "r2l5UrM4_XJQ"
      },
      "source": [
        "We wish to configure the dataloader to work in a disbtributed environment. Distributed Dataloading is support by Ignite as part of DDP support. This requires specific adjustments to the sequential case.\n",
        "\n",
        "To handle this, `idist` provides an helper [`auto_dataloader`](https://pytorch.org/ignite/v0.4.5/generated/ignite.distributed.auto.auto_dataloader.html#auto-dataloader) which automatically distributes the data over the processes.\n",
        "\n",
        "**Note**: Distributed dataloading is described in [Distributed Data Parallel (DDP)](https://pytorch.org/tutorials/intermediate/ddp_tutorial.html) tutorial if you wish to learn more."
      ]
    },
    {
      "cell_type": "code",
      "metadata": {
        "id": "ihsT67UhD0PO"
      },
      "source": [
        "train_loader = idist.auto_dataloader(\n",
        "    train_dataset, \n",
        "    batch_size=batch_size, \n",
        "    num_workers=2, \n",
        "    shuffle=True, \n",
        "    drop_last=True,\n",
        ")   "
      ],
      "execution_count": 15,
      "outputs": []
    },
    {
      "cell_type": "markdown",
      "metadata": {
        "id": "DPsdFKOB_Z1T"
      },
      "source": [
        "Let's explore the data."
      ]
    },
    {
      "cell_type": "code",
      "metadata": {
        "id": "0kSAPnKBECET",
        "colab": {
          "base_uri": "https://localhost:8080/",
          "height": 131
        },
        "outputId": "f51398e3-5fdb-4c14-af19-d14c15ccf698"
      },
      "source": [
        "real_batch = next(iter(train_loader))\n",
        "\n",
        "plt.figure()\n",
        "plt.axis(\"off\")\n",
        "plt.title(\"Training Images\")\n",
        "plt.imshow(np.transpose(vutils.make_grid(real_batch[0][:4], padding=2, normalize=True).cpu(),(1,2,0)))\n",
        "plt.show()"
      ],
      "execution_count": 16,
      "outputs": [
        {
          "output_type": "display_data",
          "data": {
            "image/png": "[encoded data removed]",
            "text/plain": [
              "<Figure size 432x288 with 1 Axes>"
            ]
          },
          "metadata": {
            "tags": [],
            "needs_background": "light"
          }
        }
      ]
    },
    {
      "cell_type": "code",
      "metadata": {
        "id": "vYrsy6f_EGP6"
      },
      "source": [
        "class ConvLayer(torch.nn.Module):\n",
        "    def __init__(self, in_channels, out_channels, kernel_size, stride):\n",
        "        super(ConvLayer, self).__init__()\n",
        "        reflection_padding = kernel_size // 2\n",
        "        self.reflection_pad = torch.nn.ReflectionPad2d(reflection_padding)\n",
        "        self.conv2d = torch.nn.Conv2d(in_channels, out_channels, kernel_size, stride)\n",
        "\n",
        "    def forward(self, x):\n",
        "        out = self.reflection_pad(x)\n",
        "        out = self.conv2d(out)\n",
        "        return out"
      ],
      "execution_count": 17,
      "outputs": []
    },
    {
      "cell_type": "markdown",
      "metadata": {
        "id": "ceuwccHf_eJF"
      },
      "source": [
        "# Model for Fast Neural Style Transfer"
      ]
    },
    {
      "cell_type": "code",
      "metadata": {
        "id": "8cazSXC1EMBj"
      },
      "source": [
        "class ResidualBlock(torch.nn.Module):\n",
        "    \"\"\"ResidualBlock\n",
        "    introduced in: https://arxiv.org/abs/1512.03385\n",
        "    recommended architecture: http://torch.ch/blog/2016/02/04/resnets.html\n",
        "    \"\"\"\n",
        "\n",
        "    def __init__(self, channels):\n",
        "        super(ResidualBlock, self).__init__()\n",
        "        self.conv1 = ConvLayer(channels, channels, kernel_size=3, stride=1)\n",
        "        self.in1 = torch.nn.InstanceNorm2d(channels, affine=True)\n",
        "        self.conv2 = ConvLayer(channels, channels, kernel_size=3, stride=1)\n",
        "        self.in2 = torch.nn.InstanceNorm2d(channels, affine=True)\n",
        "        self.relu = torch.nn.ReLU()\n",
        "\n",
        "    def forward(self, x):\n",
        "        residual = x\n",
        "        out = self.relu(self.in1(self.conv1(x)))\n",
        "        out = self.in2(self.conv2(out))\n",
        "        out = out + residual\n",
        "        return out"
      ],
      "execution_count": 18,
      "outputs": []
    },
    {
      "cell_type": "code",
      "metadata": {
        "id": "9G7WjT_5EN3p"
      },
      "source": [
        "class UpsampleConvLayer(torch.nn.Module):\n",
        "    \"\"\"UpsampleConvLayer\n",
        "    Upsamples the input and then does a convolution. This method gives better results\n",
        "    compared to ConvTranspose2d.\n",
        "    ref: http://distill.pub/2016/deconv-checkerboard/\n",
        "    \"\"\"\n",
        "\n",
        "    def __init__(self, in_channels, out_channels, kernel_size, stride, upsample=None):\n",
        "        super(UpsampleConvLayer, self).__init__()\n",
        "        self.upsample = upsample\n",
        "        reflection_padding = kernel_size // 2\n",
        "        self.reflection_pad = torch.nn.ReflectionPad2d(reflection_padding)\n",
        "        self.conv2d = torch.nn.Conv2d(in_channels, out_channels, kernel_size, stride)\n",
        "\n",
        "    def forward(self, x):\n",
        "        x_in = x\n",
        "        if self.upsample:\n",
        "            x_in = torch.nn.functional.interpolate(x_in, mode='nearest', scale_factor=self.upsample)\n",
        "        out = self.reflection_pad(x_in)\n",
        "        out = self.conv2d(out)\n",
        "        return out"
      ],
      "execution_count": 19,
      "outputs": []
    },
    {
      "cell_type": "code",
      "metadata": {
        "id": "di3NnnzlEPvd"
      },
      "source": [
        "class TransformerNet(torch.nn.Module):\n",
        "    def __init__(self):\n",
        "        super(TransformerNet, self).__init__()\n",
        "        # Initial convolution layers\n",
        "        self.conv1 = ConvLayer(3, 32, kernel_size=9, stride=1)\n",
        "        self.in1 = torch.nn.InstanceNorm2d(32, affine=True)\n",
        "        self.conv2 = ConvLayer(32, 64, kernel_size=3, stride=2)\n",
        "        self.in2 = torch.nn.InstanceNorm2d(64, affine=True)\n",
        "        self.conv3 = ConvLayer(64, 128, kernel_size=3, stride=2)\n",
        "        self.in3 = torch.nn.InstanceNorm2d(128, affine=True)\n",
        "        # Residual layers\n",
        "        self.res1 = ResidualBlock(128)\n",
        "        self.res2 = ResidualBlock(128)\n",
        "        self.res3 = ResidualBlock(128)\n",
        "        self.res4 = ResidualBlock(128)\n",
        "        self.res5 = ResidualBlock(128)\n",
        "        # Upsampling Layers\n",
        "        self.deconv1 = UpsampleConvLayer(128, 64, kernel_size=3, stride=1, upsample=2)\n",
        "        self.in4 = torch.nn.InstanceNorm2d(64, affine=True)\n",
        "        self.deconv2 = UpsampleConvLayer(64, 32, kernel_size=3, stride=1, upsample=2)\n",
        "        self.in5 = torch.nn.InstanceNorm2d(32, affine=True)\n",
        "        self.deconv3 = ConvLayer(32, 3, kernel_size=9, stride=1)\n",
        "        # Non-linearities\n",
        "        self.relu = torch.nn.ReLU()\n",
        "\n",
        "    def forward(self, X):\n",
        "        y = self.relu(self.in1(self.conv1(X)))\n",
        "        y = self.relu(self.in2(self.conv2(y)))\n",
        "        y = self.relu(self.in3(self.conv3(y)))\n",
        "        y = self.res1(y)\n",
        "        y = self.res2(y)\n",
        "        y = self.res3(y)\n",
        "        y = self.res4(y)\n",
        "        y = self.res5(y)\n",
        "        y = self.relu(self.in4(self.deconv1(y)))\n",
        "        y = self.relu(self.in5(self.deconv2(y)))\n",
        "        y = self.deconv3(y)\n",
        "        return y"
      ],
      "execution_count": 20,
      "outputs": []
    },
    {
      "cell_type": "markdown",
      "metadata": {
        "id": "aLmlp6tXe7Kr"
      },
      "source": [
        "As for dataloading, distributed models requires some specifics that `idist` adresses providing the [`auto_model`](https://pytorch.org/ignite/v0.4.5/generated/ignite.distributed.auto.auto_model.html#auto-model) helper."
      ]
    },
    {
      "cell_type": "code",
      "metadata": {
        "id": "ba9xJClgEXMJ"
      },
      "source": [
        "transformer = idist.auto_model(TransformerNet()).to(device)"
      ],
      "execution_count": 21,
      "outputs": []
    },
    {
      "cell_type": "markdown",
      "metadata": {
        "id": "eSsm_pLye_E9"
      },
      "source": [
        "## PPL Loss"
      ]
    },
    {
      "cell_type": "markdown",
      "metadata": {
        "id": "Gcb0sV-GEQPG"
      },
      "source": [
        "### Style Loss"
      ]
    },
    {
      "cell_type": "code",
      "metadata": {
        "id": "ClxjN4k9EgcX"
      },
      "source": [
        "from collections import namedtuple\n",
        "from torchvision import models\n",
        "\n",
        "\n",
        "class Vgg16(torch.nn.Module):\n",
        "    def __init__(self, requires_grad=False):\n",
        "        super(Vgg16, self).__init__()\n",
        "        vgg_pretrained_features = models.vgg16(pretrained=True).features\n",
        "        self.slice1 = torch.nn.Sequential()\n",
        "        self.slice2 = torch.nn.Sequential()\n",
        "        self.slice3 = torch.nn.Sequential()\n",
        "        self.slice4 = torch.nn.Sequential()\n",
        "        for x in range(4):\n",
        "            self.slice1.add_module(str(x), vgg_pretrained_features[x])\n",
        "        for x in range(4, 9):\n",
        "            self.slice2.add_module(str(x), vgg_pretrained_features[x])\n",
        "        for x in range(9, 16):\n",
        "            self.slice3.add_module(str(x), vgg_pretrained_features[x])\n",
        "        for x in range(16, 23):\n",
        "            self.slice4.add_module(str(x), vgg_pretrained_features[x])\n",
        "        if not requires_grad:\n",
        "            for param in self.parameters():\n",
        "                param.requires_grad = False\n",
        "\n",
        "    def forward(self, X):\n",
        "        h = self.slice1(X)\n",
        "        h_relu1_2 = h\n",
        "        h = self.slice2(h)\n",
        "        h_relu2_2 = h\n",
        "        h = self.slice3(h)\n",
        "        h_relu3_3 = h\n",
        "        h = self.slice4(h)\n",
        "        h_relu4_3 = h\n",
        "        vgg_outputs = namedtuple(\"VggOutputs\", ['relu1_2', 'relu2_2', 'relu3_3', 'relu4_3'])\n",
        "        out = vgg_outputs(h_relu1_2, h_relu2_2, h_relu3_3, h_relu4_3)\n",
        "        return out"
      ],
      "execution_count": 22,
      "outputs": []
    },
    {
      "cell_type": "code",
      "metadata": {
        "id": "51UGjINXEoqD"
      },
      "source": [
        "def gram_matrix(y):\n",
        "    (b, ch, h, w) = y.size()\n",
        "    features = y.view(b, ch, w * h)\n",
        "    features_t = features.transpose(1, 2)\n",
        "    gram = features.bmm(features_t) / (ch * h * w)\n",
        "    return gram\n",
        "\n",
        "\n",
        "def normalize_batch(batch):\n",
        "    # normalize using imagenet mean and std\n",
        "    mean = batch.new_tensor([0.485, 0.456, 0.406]).view(-1, 1, 1)\n",
        "    std = batch.new_tensor([0.229, 0.224, 0.225]).view(-1, 1, 1)\n",
        "    batch = batch.div_(255.0)\n",
        "    return (batch - mean) / std"
      ],
      "execution_count": 23,
      "outputs": []
    },
    {
      "cell_type": "code",
      "metadata": {
        "id": "ivMsDTwyFBAl"
      },
      "source": [
        "optimizer = idist.auto_optim(Adam(transformer.parameters(), lr))"
      ],
      "execution_count": 24,
      "outputs": []
    },
    {
      "cell_type": "markdown",
      "metadata": {
        "id": "1RSkhFHfWGRe"
      },
      "source": [
        "### Content Loss"
      ]
    },
    {
      "cell_type": "code",
      "metadata": {
        "id": "NVbotXXGFKMn"
      },
      "source": [
        "mse_loss = torch.nn.MSELoss()"
      ],
      "execution_count": 25,
      "outputs": []
    },
    {
      "cell_type": "markdown",
      "metadata": {
        "id": "UyTqkm_PWPXh"
      },
      "source": [
        "### Utility Functions\n",
        "Here we have defined two utility functions `load_image` and `save_image` which are responsible for loading and saving images as their name suggests."
      ]
    },
    {
      "cell_type": "code",
      "metadata": {
        "id": "O6ucTIIuWPzw"
      },
      "source": [
        "from PIL import Image\n",
        "\n",
        "\n",
        "def load_image(filename, size=None, scale=None):\n",
        "    img = Image.open(filename).convert('RGB')\n",
        "    if size is not None:\n",
        "        img = img.resize((size, size), Image.ANTIALIAS)\n",
        "    elif scale is not None:\n",
        "        img = img.resize((int(img.size[0] / scale), int(img.size[1] / scale)), Image.ANTIALIAS)\n",
        "    return img\n",
        "\n",
        "\n",
        "def save_image(filename, data):\n",
        "    img = data.clone().clamp(0, 255).numpy()\n",
        "    img = img.transpose(1, 2, 0).astype(\"uint8\")\n",
        "    img = Image.fromarray(img)\n",
        "    img.save(filename)"
      ],
      "execution_count": 26,
      "outputs": []
    },
    {
      "cell_type": "code",
      "metadata": {
        "id": "YMhfzmgvF-PX",
        "colab": {
          "base_uri": "https://localhost:8080/",
          "height": 120,
          "referenced_widgets": [
            "40ce5a5e6cad454ab80cf5d812de685b",
            "c231afe30f6d469d9711c064cd1512f8",
            "558019b6fb5b4e109dc5a27ceb5a0deb",
            "258d1d088ea549ca8cba50b8844b0817",
            "64640ad841094d07a88fbefa1cad1e74",
            "b62f8ca212834830ba2e6c77169de1ce",
            "0e6352b037a040f78b330db5bba62e68",
            "66d742b2ecdd4d27ba6c35b9f39a7b5a",
            "a4cb919f474349aaa0bbd1e5b2956c28",
            "5f779f5dc16e4d88a5dd1822f4ce7afe",
            "e0b1fdc871ac44d4aedb53278c8e47ca"
          ]
        },
        "outputId": "f2b8bd14-756b-433f-f85f-971ca24504c9"
      },
      "source": [
        "vgg = Vgg16(requires_grad=False).to(device)\n",
        "style_transform = transforms.Compose([\n",
        "    transforms.ToTensor(),\n",
        "    transforms.Lambda(lambda x: x.mul(255))\n",
        "])\n",
        "style = load_image(style_image, size=style_size)\n",
        "style = style_transform(style)\n",
        "style = style.repeat(batch_size, 1, 1, 1).to(device)\n",
        "\n",
        "features_style = vgg(normalize_batch(style))\n",
        "gram_style = [gram_matrix(y) for y in features_style]"
      ],
      "execution_count": 27,
      "outputs": [
        {
          "output_type": "stream",
          "text": [
            "Downloading: \"https://download.pytorch.org/models/vgg16-397923af.pth\" to /root/.cache/torch/hub/checkpoints/vgg16-397923af.pth\n"
          ],
          "name": "stderr"
        },
        {
          "output_type": "display_data",
          "data": {
            "application/vnd.jupyter.widget-view+json": {
              "model_id": "40ce5a5e6cad454ab80cf5d812de685b",
              "version_minor": 0,
              "version_major": 2
            },
            "text/plain": [
              "  0%|          | 0.00/528M [00:00<?, ?B/s]"
            ]
          },
          "metadata": {
            "tags": []
          }
        },
        {
          "output_type": "stream",
          "text": [
            "/usr/local/lib/python3.7/dist-packages/torch/nn/functional.py:718: UserWarning: Named tensors and all their associated APIs are an experimental feature and subject to change. Please do not use them for anything important until they are released as stable. (Triggered internally at  /pytorch/c10/core/TensorImpl.h:1156.)\n",
            "  return torch.max_pool2d(input, kernel_size, stride, padding, dilation, ceil_mode)\n"
          ],
          "name": "stderr"
        }
      ]
    },
    {
      "cell_type": "code",
      "metadata": {
        "id": "90NzMGJxo7fn"
      },
      "source": [
        "agg_content_loss = 0.\n",
        "agg_style_loss = 0.\n",
        "count = 0\n",
        "batch_id = 0"
      ],
      "execution_count": 28,
      "outputs": []
    },
    {
      "cell_type": "code",
      "metadata": {
        "id": "ZcxRIvqfufj8"
      },
      "source": [
        "import time\n",
        "import os"
      ],
      "execution_count": 29,
      "outputs": []
    },
    {
      "cell_type": "markdown",
      "metadata": {
        "id": "yv3Tu-r5El5z"
      },
      "source": [
        "# Ignite Training Concepts\n",
        "\n",
        "Training in Ignite is based on three core components, namely, Engine, Events and Handlers. Let's briefly discuss each of them.\n",
        "\n",
        "*   **Engine** - The [Engine](https://pytorch.org/ignite/v0.4.5/generated/ignite.engine.engine.Engine.html#engine) can be considered somewhat similar to a training loop. It takes a `train_step` as an argument and runs it  over each batch of the dataset, emmiting events as it goes.\n",
        "\n",
        "*   **Events** - [Events](https://pytorch.org/ignite/v0.4.5/generated/ignite.engine.events.Events.html#events) are emmited by the Engine when it reaches a specific point in the run/training.\n",
        "\n",
        "*   **Handlers** - These are [functions](https://pytorch.org/ignite/v0.4.5/handlers.html#ignite-handlers) which can be configured so that they are triggered when a certain Event is emmited by the Engine. Ignite has a long list of pre defined Handlers such as checkpoint, early stopping, logging and built-in metrics."
      ]
    },
    {
      "cell_type": "code",
      "metadata": {
        "id": "TqmMnkc0GH6E"
      },
      "source": [
        "def training_step(engine, data):\n",
        "    global count, agg_content_loss, agg_style_loss, batch_id\n",
        "    x = data[0]\n",
        "    transformer.train()\n",
        "    n_batch = len(x)\n",
        "    count += n_batch\n",
        "    optimizer.zero_grad()\n",
        "\n",
        "    x = x.to(device)\n",
        "    y = transformer(x)\n",
        "\n",
        "    y = normalize_batch(y)\n",
        "    x = normalize_batch(x)\n",
        "\n",
        "    features_y = vgg(y)\n",
        "    features_x = vgg(x)\n",
        "\n",
        "    content_loss = content_weight * mse_loss(features_y.relu2_2, features_x.relu2_2)\n",
        "\n",
        "    style_loss = 0.\n",
        "    for ft_y, gm_s in zip(features_y, gram_style):\n",
        "        gm_y = gram_matrix(ft_y)\n",
        "        style_loss += mse_loss(gm_y, gm_s[:n_batch, :, :])\n",
        "    style_loss *= style_weight\n",
        "\n",
        "    total_loss = content_loss + style_loss\n",
        "    total_loss.backward()\n",
        "    optimizer.step()\n",
        "\n",
        "    agg_content_loss += content_loss.item()\n",
        "    agg_style_loss += style_loss.item()\n",
        "\n",
        "    if (batch_id + 1) % log_interval == 0:\n",
        "        mesg = \"{}\\tEpoch {}:\\t[{}/{}]\\tcontent: {:.6f}\\tstyle: {:.6f}\\ttotal: {:.6f}\".format(\n",
        "            time.ctime(), 1, count, len(train_dataset),\n",
        "                            agg_content_loss / (batch_id + 1),\n",
        "                            agg_style_loss / (batch_id + 1),\n",
        "                            (agg_content_loss + agg_style_loss) / (batch_id + 1)\n",
        "        )\n",
        "        print(mesg)\n",
        "\n",
        "    if checkpoint_model_dir is not None and (batch_id + 1) % checkpoint_interval == 0:\n",
        "        transformer.eval().cpu()\n",
        "        ckpt_model_filename = \"ckpt_epoch_\" + str(1) + \"_batch_id_\" + str(batch_id + 1) + \".pth\"\n",
        "        ckpt_model_path = os.path.join(checkpoint_model_dir, ckpt_model_filename)\n",
        "        torch.save(transformer.state_dict(), ckpt_model_path)\n",
        "        transformer.to(device).train()\n",
        "    \n",
        "    batch_id += 1"
      ],
      "execution_count": 30,
      "outputs": []
    },
    {
      "cell_type": "code",
      "metadata": {
        "id": "j9QM-I13HVBp"
      },
      "source": [
        "trainer = Engine(training_step)"
      ],
      "execution_count": 31,
      "outputs": []
    },
    {
      "cell_type": "code",
      "metadata": {
        "id": "2CTcpc-kHVxU"
      },
      "source": [
        "from ignite.contrib.handlers import ProgressBar\n",
        "\n",
        "ProgressBar().attach(trainer)"
      ],
      "execution_count": 32,
      "outputs": []
    },
    {
      "cell_type": "code",
      "metadata": {
        "id": "w0HLhhmFHejc"
      },
      "source": [
        "def training(*args):\n",
        "    trainer.run(train_loader, max_epochs=2)"
      ],
      "execution_count": 33,
      "outputs": []
    },
    {
      "cell_type": "code",
      "metadata": {
        "id": "CS31VYeTHfNy",
        "colab": {
          "base_uri": "https://localhost:8080/",
          "height": 1000,
          "referenced_widgets": [
            "228bbf232c3945d78ae43c208edf49db",
            "eb4cc4a538d54e1389b0c69435f9d22f",
            "df7e61077523434d9191065e9a2a8276",
            "491a916d2c564eb78db31dcb78676b4f",
            "c0987a192c2b47cfa6741159e2e2640c",
            "d437c207596948a081f351eb4c6acf47",
            "c6175c2b39bc47c5b00ed0bdb6774098",
            "4660c1a362be47dfabf2699e0993f13c",
            "81c06e254ef5421f8c916f39fa69a296",
            "4969f137343d4337978f49a211ba8c52",
            "c2e9816828694cfebc053e219db88bb4",
            "966314d425204b50aa9e54406fd8e85e",
            "15435ed0581544258c7fa64fb4fdae64",
            "be845f136bfb4e5389a1d3251ac4f6b5",
            "b479c838b31c45d48c2a260b2c63b55d",
            "1f8bc195d50a4858aea3f3954977f19d",
            "4bf367bc391a4c63b12582546b41c6bf",
            "4f78ad782f444cbc81e00052d356a4b5",
            "af5dc27afceb4f5e8e95d3e86784b284",
            "77c131d96a5549c98188f6850d7317de",
            "5af5b96581874ff3b6423228c6a85bdd",
            "bc0d2e2d2b5448f991835e3df1746674"
          ]
        },
        "outputId": "bddb1d50-56a8-4021-a5c0-cf165b09ab8c"
      },
      "source": [
        "with idist.Parallel(backend='nccl') as parallel:\n",
        "    parallel.run(training)"
      ],
      "execution_count": 34,
      "outputs": [
        {
          "output_type": "display_data",
          "data": {
            "application/vnd.jupyter.widget-view+json": {
              "model_id": "228bbf232c3945d78ae43c208edf49db",
              "version_major": 2,
              "version_minor": 0
            },
            "text/plain": [
              "[1/20695]   0%|           [00:00<?]"
            ]
          },
          "metadata": {
            "tags": []
          }
        },
        {
          "output_type": "stream",
          "text": [
            "Sat Aug 14 08:15:15 2021\tEpoch 1:\t[2000/82783]\tcontent: 1917985.634313\tstyle: 9707167.986000\ttotal: 11625153.620313\n",
            "Sat Aug 14 08:17:24 2021\tEpoch 1:\t[4000/82783]\tcontent: 2088529.677031\tstyle: 5655229.696250\ttotal: 7743759.373281\n",
            "Sat Aug 14 08:19:32 2021\tEpoch 1:\t[6000/82783]\tcontent: 2152837.238937\tstyle: 4092106.943542\ttotal: 6244944.182479\n",
            "Sat Aug 14 08:21:40 2021\tEpoch 1:\t[8000/82783]\tcontent: 2178611.351203\tstyle: 3255240.138125\ttotal: 5433851.489328\n",
            "Sat Aug 14 08:23:48 2021\tEpoch 1:\t[10000/82783]\tcontent: 2185148.386162\tstyle: 2735506.342050\ttotal: 4920654.728212\n",
            "Sat Aug 14 08:25:56 2021\tEpoch 1:\t[12000/82783]\tcontent: 2179738.387802\tstyle: 2379854.697406\ttotal: 4559593.085208\n",
            "Sat Aug 14 08:28:04 2021\tEpoch 1:\t[14000/82783]\tcontent: 2168099.993723\tstyle: 2122774.105152\ttotal: 4290874.098875\n",
            "Sat Aug 14 08:30:12 2021\tEpoch 1:\t[16000/82783]\tcontent: 2153887.046258\tstyle: 1927257.712062\ttotal: 4081144.758320\n",
            "Sat Aug 14 08:32:20 2021\tEpoch 1:\t[18000/82783]\tcontent: 2136680.502757\tstyle: 1773380.360583\ttotal: 3910060.863340\n",
            "Sat Aug 14 08:34:29 2021\tEpoch 1:\t[20000/82783]\tcontent: 2119646.738681\tstyle: 1649249.463994\ttotal: 3768896.202675\n",
            "Sat Aug 14 08:36:37 2021\tEpoch 1:\t[22000/82783]\tcontent: 2101586.270778\tstyle: 1546239.172733\ttotal: 3647825.443511\n",
            "Sat Aug 14 08:38:45 2021\tEpoch 1:\t[24000/82783]\tcontent: 2084035.902714\tstyle: 1459831.708359\ttotal: 3543867.611073\n",
            "Sat Aug 14 08:40:53 2021\tEpoch 1:\t[26000/82783]\tcontent: 2066793.163678\tstyle: 1386146.627543\ttotal: 3452939.791221\n",
            "Sat Aug 14 08:43:01 2021\tEpoch 1:\t[28000/82783]\tcontent: 2050013.446112\tstyle: 1322137.374951\ttotal: 3372150.821063\n",
            "Sat Aug 14 08:45:09 2021\tEpoch 1:\t[30000/82783]\tcontent: 2034242.214854\tstyle: 1266628.808958\ttotal: 3300871.023812\n",
            "Sat Aug 14 08:47:17 2021\tEpoch 1:\t[32000/82783]\tcontent: 2019356.036020\tstyle: 1217491.810777\ttotal: 3236847.846797\n",
            "Sat Aug 14 08:49:25 2021\tEpoch 1:\t[34000/82783]\tcontent: 2006838.524739\tstyle: 1175886.436224\ttotal: 3182724.960963\n",
            "Sat Aug 14 08:51:33 2021\tEpoch 1:\t[36000/82783]\tcontent: 1994386.648990\tstyle: 1136685.704639\ttotal: 3131072.353628\n",
            "Sat Aug 14 08:53:41 2021\tEpoch 1:\t[38000/82783]\tcontent: 1982252.910359\tstyle: 1101221.279875\ttotal: 3083474.190234\n",
            "Sat Aug 14 08:55:49 2021\tEpoch 1:\t[40000/82783]\tcontent: 1970874.979153\tstyle: 1069113.187475\ttotal: 3039988.166628\n",
            "Sat Aug 14 08:57:57 2021\tEpoch 1:\t[42000/82783]\tcontent: 1959663.480265\tstyle: 1039542.874268\ttotal: 2999206.354533\n",
            "Sat Aug 14 09:00:05 2021\tEpoch 1:\t[44000/82783]\tcontent: 1949335.461503\tstyle: 1012623.739193\ttotal: 2961959.200696\n",
            "Sat Aug 14 09:02:13 2021\tEpoch 1:\t[46000/82783]\tcontent: 1939390.274133\tstyle: 987952.555516\ttotal: 2927342.829649\n",
            "Sat Aug 14 09:04:21 2021\tEpoch 1:\t[48000/82783]\tcontent: 1929897.387523\tstyle: 964986.650578\ttotal: 2894884.038102\n",
            "Sat Aug 14 09:06:28 2021\tEpoch 1:\t[50000/82783]\tcontent: 1920756.165783\tstyle: 943888.216398\ttotal: 2864644.382180\n",
            "Sat Aug 14 09:08:36 2021\tEpoch 1:\t[52000/82783]\tcontent: 1912352.669897\tstyle: 924269.882151\ttotal: 2836622.552048\n",
            "Sat Aug 14 09:10:44 2021\tEpoch 1:\t[54000/82783]\tcontent: 1904217.509650\tstyle: 905852.072130\ttotal: 2810069.581780\n",
            "Sat Aug 14 09:12:52 2021\tEpoch 1:\t[56000/82783]\tcontent: 1896256.557538\tstyle: 888692.837384\ttotal: 2784949.394922\n",
            "Sat Aug 14 09:15:00 2021\tEpoch 1:\t[58000/82783]\tcontent: 1888812.270571\tstyle: 872795.542666\ttotal: 2761607.813237\n",
            "Sat Aug 14 09:17:08 2021\tEpoch 1:\t[60000/82783]\tcontent: 1881514.727002\tstyle: 857787.879640\ttotal: 2739302.606642\n",
            "Sat Aug 14 09:19:16 2021\tEpoch 1:\t[62000/82783]\tcontent: 1874364.675373\tstyle: 843677.600256\ttotal: 2718042.275629\n",
            "Sat Aug 14 09:21:24 2021\tEpoch 1:\t[64000/82783]\tcontent: 1867829.716814\tstyle: 830375.573053\ttotal: 2698205.289867\n",
            "Sat Aug 14 09:23:32 2021\tEpoch 1:\t[66000/82783]\tcontent: 1861559.293396\tstyle: 817819.896953\ttotal: 2679379.190348\n",
            "Sat Aug 14 09:25:40 2021\tEpoch 1:\t[68000/82783]\tcontent: 1855421.350112\tstyle: 805995.702772\ttotal: 2661417.052884\n",
            "Sat Aug 14 09:27:47 2021\tEpoch 1:\t[70000/82783]\tcontent: 1849469.685487\tstyle: 794686.636382\ttotal: 2644156.321870\n",
            "Sat Aug 14 09:29:55 2021\tEpoch 1:\t[72000/82783]\tcontent: 1843862.471668\tstyle: 784048.055943\ttotal: 2627910.527611\n",
            "Sat Aug 14 09:32:03 2021\tEpoch 1:\t[74000/82783]\tcontent: 1838255.274623\tstyle: 773868.644350\ttotal: 2612123.918973\n",
            "Sat Aug 14 09:34:11 2021\tEpoch 1:\t[76000/82783]\tcontent: 1832904.062449\tstyle: 764259.504031\ttotal: 2597163.566480\n",
            "Sat Aug 14 09:36:19 2021\tEpoch 1:\t[78000/82783]\tcontent: 1827757.977213\tstyle: 755035.831771\ttotal: 2582793.808984\n",
            "Sat Aug 14 09:38:27 2021\tEpoch 1:\t[80000/82783]\tcontent: 1822790.974383\tstyle: 746305.277817\ttotal: 2569096.252200\n",
            "Sat Aug 14 09:40:35 2021\tEpoch 1:\t[82000/82783]\tcontent: 1817993.608752\tstyle: 737943.019861\ttotal: 2555936.628613\n"
          ],
          "name": "stdout"
        },
        {
          "output_type": "display_data",
          "data": {
            "application/vnd.jupyter.widget-view+json": {
              "model_id": "966314d425204b50aa9e54406fd8e85e",
              "version_major": 2,
              "version_minor": 0
            },
            "text/plain": [
              "[1/20695]   0%|           [00:00<?]"
            ]
          },
          "metadata": {
            "tags": []
          }
        },
        {
          "output_type": "stream",
          "text": [
            "Sat Aug 14 09:42:43 2021\tEpoch 1:\t[84000/82783]\tcontent: 1813253.626912\tstyle: 729978.021497\ttotal: 2543231.648409\n",
            "Sat Aug 14 09:44:51 2021\tEpoch 1:\t[86000/82783]\tcontent: 1808715.815042\tstyle: 722373.377951\ttotal: 2531089.192993\n",
            "Sat Aug 14 09:46:58 2021\tEpoch 1:\t[88000/82783]\tcontent: 1804331.849155\tstyle: 714960.271010\ttotal: 2519292.120165\n",
            "Sat Aug 14 09:49:06 2021\tEpoch 1:\t[90000/82783]\tcontent: 1799945.887624\tstyle: 707964.428126\ttotal: 2507910.315750\n",
            "Sat Aug 14 09:51:14 2021\tEpoch 1:\t[92000/82783]\tcontent: 1795858.044697\tstyle: 701147.996340\ttotal: 2497006.041037\n",
            "Sat Aug 14 09:53:22 2021\tEpoch 1:\t[94000/82783]\tcontent: 1791837.025852\tstyle: 694666.914351\ttotal: 2486503.940203\n",
            "Sat Aug 14 09:55:30 2021\tEpoch 1:\t[96000/82783]\tcontent: 1788016.115845\tstyle: 688419.154066\ttotal: 2476435.269911\n",
            "Sat Aug 14 09:57:38 2021\tEpoch 1:\t[98000/82783]\tcontent: 1784272.889501\tstyle: 682369.093357\ttotal: 2466641.982858\n",
            "Sat Aug 14 09:59:46 2021\tEpoch 1:\t[100000/82783]\tcontent: 1780881.758416\tstyle: 676890.655598\ttotal: 2457772.414014\n",
            "Sat Aug 14 10:01:54 2021\tEpoch 1:\t[102000/82783]\tcontent: 1777620.535933\tstyle: 671315.024904\ttotal: 2448935.560837\n",
            "Sat Aug 14 10:04:02 2021\tEpoch 1:\t[104000/82783]\tcontent: 1774363.691448\tstyle: 665928.902495\ttotal: 2440292.593944\n",
            "Sat Aug 14 10:06:09 2021\tEpoch 1:\t[106000/82783]\tcontent: 1771188.022473\tstyle: 660774.417945\ttotal: 2431962.440417\n",
            "Sat Aug 14 10:08:17 2021\tEpoch 1:\t[108000/82783]\tcontent: 1767794.153265\tstyle: 655756.296875\ttotal: 2423550.450140\n",
            "Sat Aug 14 10:10:25 2021\tEpoch 1:\t[110000/82783]\tcontent: 1764618.658724\tstyle: 650874.146664\ttotal: 2415492.805388\n",
            "Sat Aug 14 10:12:33 2021\tEpoch 1:\t[112000/82783]\tcontent: 1761553.257148\tstyle: 646165.247125\ttotal: 2407718.504273\n",
            "Sat Aug 14 10:14:41 2021\tEpoch 1:\t[114000/82783]\tcontent: 1758540.861541\tstyle: 641619.765135\ttotal: 2400160.626675\n",
            "Sat Aug 14 10:16:49 2021\tEpoch 1:\t[116000/82783]\tcontent: 1755584.924730\tstyle: 637238.702649\ttotal: 2392823.627378\n",
            "Sat Aug 14 10:18:57 2021\tEpoch 1:\t[118000/82783]\tcontent: 1752803.169425\tstyle: 632996.350669\ttotal: 2385799.520094\n",
            "Sat Aug 14 10:21:05 2021\tEpoch 1:\t[120000/82783]\tcontent: 1749964.462955\tstyle: 628868.152899\ttotal: 2378832.615854\n",
            "Sat Aug 14 10:23:13 2021\tEpoch 1:\t[122000/82783]\tcontent: 1747230.621665\tstyle: 624835.412973\ttotal: 2372066.034638\n",
            "Sat Aug 14 10:25:21 2021\tEpoch 1:\t[124000/82783]\tcontent: 1744509.319106\tstyle: 620953.046552\ttotal: 2365462.365658\n",
            "Sat Aug 14 10:27:28 2021\tEpoch 1:\t[126000/82783]\tcontent: 1741928.467941\tstyle: 617264.644185\ttotal: 2359193.112126\n",
            "Sat Aug 14 10:29:36 2021\tEpoch 1:\t[128000/82783]\tcontent: 1739385.710970\tstyle: 613584.648971\ttotal: 2352970.359940\n",
            "Sat Aug 14 10:31:44 2021\tEpoch 1:\t[130000/82783]\tcontent: 1736798.862039\tstyle: 610000.707540\ttotal: 2346799.569580\n",
            "Sat Aug 14 10:33:52 2021\tEpoch 1:\t[132000/82783]\tcontent: 1734261.321020\tstyle: 606554.489183\ttotal: 2340815.810203\n",
            "Sat Aug 14 10:36:00 2021\tEpoch 1:\t[134000/82783]\tcontent: 1731866.976699\tstyle: 603191.471397\ttotal: 2335058.448096\n",
            "Sat Aug 14 10:38:08 2021\tEpoch 1:\t[136000/82783]\tcontent: 1729554.976791\tstyle: 599923.229229\ttotal: 2329478.206020\n",
            "Sat Aug 14 10:40:16 2021\tEpoch 1:\t[138000/82783]\tcontent: 1727303.779773\tstyle: 596717.926793\ttotal: 2324021.706566\n",
            "Sat Aug 14 10:42:23 2021\tEpoch 1:\t[140000/82783]\tcontent: 1725090.171037\tstyle: 593564.633062\ttotal: 2318654.804098\n",
            "Sat Aug 14 10:44:31 2021\tEpoch 1:\t[142000/82783]\tcontent: 1722933.314230\tstyle: 590583.478711\ttotal: 2313516.792941\n",
            "Sat Aug 14 10:46:39 2021\tEpoch 1:\t[144000/82783]\tcontent: 1720864.719793\tstyle: 587639.386757\ttotal: 2308504.106549\n",
            "Sat Aug 14 10:48:47 2021\tEpoch 1:\t[146000/82783]\tcontent: 1718777.468265\tstyle: 584735.205944\ttotal: 2303512.674209\n",
            "Sat Aug 14 10:50:55 2021\tEpoch 1:\t[148000/82783]\tcontent: 1716691.879964\tstyle: 581937.167015\ttotal: 2298629.046979\n",
            "Sat Aug 14 10:53:03 2021\tEpoch 1:\t[150000/82783]\tcontent: 1714788.366284\tstyle: 579224.746318\ttotal: 2294013.112602\n",
            "Sat Aug 14 10:55:11 2021\tEpoch 1:\t[152000/82783]\tcontent: 1712859.800198\tstyle: 576545.298498\ttotal: 2289405.098697\n",
            "Sat Aug 14 10:57:19 2021\tEpoch 1:\t[154000/82783]\tcontent: 1710841.416975\tstyle: 573918.827393\ttotal: 2284760.244368\n",
            "Sat Aug 14 10:59:27 2021\tEpoch 1:\t[156000/82783]\tcontent: 1708924.540244\tstyle: 571377.143811\ttotal: 2280301.684055\n",
            "Sat Aug 14 11:01:35 2021\tEpoch 1:\t[158000/82783]\tcontent: 1707111.102517\tstyle: 568890.056210\ttotal: 2276001.158726\n",
            "Sat Aug 14 11:03:43 2021\tEpoch 1:\t[160000/82783]\tcontent: 1705219.212695\tstyle: 566443.943137\ttotal: 2271663.155832\n",
            "Sat Aug 14 11:05:51 2021\tEpoch 1:\t[162000/82783]\tcontent: 1703386.516519\tstyle: 564073.873065\ttotal: 2267460.389584\n",
            "Sat Aug 14 11:07:59 2021\tEpoch 1:\t[164000/82783]\tcontent: 1701638.980357\tstyle: 561774.662071\ttotal: 2263413.642428\n"
          ],
          "name": "stdout"
        }
      ]
    },
    {
      "cell_type": "code",
      "metadata": {
        "id": "KO8t-fnXof_0"
      },
      "source": [
        ""
      ],
      "execution_count": null,
      "outputs": []
    }
  ]
}